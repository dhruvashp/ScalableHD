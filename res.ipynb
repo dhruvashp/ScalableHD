{
 "cells": [
  {
   "cell_type": "code",
   "execution_count": null,
   "id": "4889ff9e",
   "metadata": {},
   "outputs": [],
   "source": [
    "from throughput_results.TEX_AMD import *\n",
    "import pprint\n",
    "\n",
    "pprint.pprint(HT_optimal)"
   ]
  }
 ],
 "metadata": {
  "kernelspec": {
   "display_name": "hdc_env",
   "language": "python",
   "name": "python3"
  },
  "language_info": {
   "codemirror_mode": {
    "name": "ipython",
    "version": 3
   },
   "file_extension": ".py",
   "mimetype": "text/x-python",
   "name": "python",
   "nbconvert_exporter": "python",
   "pygments_lexer": "ipython3",
   "version": "3.11.7"
  }
 },
 "nbformat": 4,
 "nbformat_minor": 5
}
